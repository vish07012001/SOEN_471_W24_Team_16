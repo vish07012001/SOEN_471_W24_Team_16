{
 "cells": [
  {
   "cell_type": "code",
   "id": "b3333126-05f1-4931-b3aa-69ae18af5577",
   "metadata": {},
   "outputs": [],
   "source": [
    "import pandas as pd\n",
    "from sklearn.model_selection import train_test_split\n",
    "from sklearn.feature_extraction.text import TfidfVectorizer\n",
    "from sklearn.tree import DecisionTreeClassifier\n",
    "from sklearn.ensemble import RandomForestClassifier\n",
    "from sklearn.impute import SimpleImputer\n",
    "from sklearn.metrics import classification_report, confusion_matrix\n",
    "import matplotlib.pyplot as plt\n",
    "import seaborn as sns"
   ]
  },
  {
   "cell_type": "code",
   "id": "a54dd4be-4d3d-4e8e-8a9f-488c9217599e",
   "metadata": {},
   "outputs": [],
   "source": [
    "# Load the data from CSV files\n",
    "atom_df = pd.read_csv('data/atom.csv')\n",
    "whatsapp_df = pd.read_csv('data/whatsapp.csv')\n",
    "codedx_df = pd.read_csv('data/codedx.csv')"
   ]
  },
  {
   "cell_type": "code",
   "id": "0ac43ba4-b1e9-4e49-b595-ae80c9723b86",
   "metadata": {},
   "outputs": [],
   "source": [
    "# Concatenate the dataframes\n",
    "df = pd.concat([atom_df, whatsapp_df, codedx_df], ignore_index=True)\n",
    "\n",
    "# Drop 'Unnamed column'\n",
    "df = df.loc[:, ~df.columns.str.contains('^Unnamed')]\n",
    "\n",
    "df = pd.get_dummies(df, columns= df.select_dtypes(include=['object']).columns.difference(['Description','Status']))\n",
    "\n",
    "# Text vectorization\n",
    "vectorizer = TfidfVectorizer(max_features=1000)  # Adjust max_features as needed\n",
    "description_vectors = vectorizer.fit_transform(df['Description'].astype(str))"
   ]
  },
  {
   "cell_type": "code",
   "id": "65b14fd0-745c-45ca-a03f-42ca5cb6b963",
   "metadata": {},
   "outputs": [],
   "source": [
    "# Combine the one-hot encoded columns with the text vectors\n",
    "X = pd.concat([df.drop(columns=['Status','Description']), pd.DataFrame(description_vectors.toarray())], axis=1)\n",
    "y = df['Status']\n",
    "\n",
    "# Drop rows with NULL values\n",
    "X = X.dropna()\n",
    "\n",
    "# Remove duplicate columns\n",
    "X = X.drop_duplicates()\n",
    "\n",
    "# Align the target variable with the training instances\n",
    "y = y.loc[X.index] \n",
    "\n",
    "# Splitting the dataset into training and testing sets\n",
    "X_train, X_test, y_train, y_test = train_test_split(X, y, test_size=0.5, random_state=42)\n",
    "X_train.columns = X_train.columns.astype(str)\n",
    "X_test.columns = X_test.columns.astype(str)"
   ]
  },
  {
   "cell_type": "code",
   "id": "8ae3e914-0077-4856-97cd-8dae40f35c1c",
   "metadata": {},
   "outputs": [
    {
     "name": "stdout",
     "output_type": "stream",
     "text": [
      "Decision Tree Classifier Results:\n",
      "                precision    recall  f1-score   support\n",
      "\n",
      "\n",
      "Random Forest Classifier Results:\n",
      "                precision    recall  f1-score   support\n",
      "\n",
      "\n"
     ]
    }
   ],
   "source": [
    "# Model training and evaluation\n",
    "\n",
    "# Decision Tree\n",
    "dt_classifier = DecisionTreeClassifier()\n",
    "dt_classifier.fit(X_train, y_train)\n",
    "dt_predictions = dt_classifier.predict(X_test)\n",
    "print(\"Decision Tree Classifier Results:\")\n",
    "print(classification_report(y_test, dt_predictions))\n",
    "\n",
    "# Random Forest\n",
    "rf_classifier = RandomForestClassifier(n_estimators=100)\n",
    "rf_classifier.fit(X_train, y_train)\n",
    "rf_predictions = rf_classifier.predict(X_test)\n",
    "print(\"Random Forest Classifier Results:\")\n",
    "print(classification_report(y_test, rf_predictions))"
   ]
  },
  {
   "cell_type": "code",
   "id": "a5fc6954-747a-452e-9da4-b7d96f711e15",
   "metadata": {},
   "outputs": [
    {
     "data": {
      "text/plain": [
       "<Figure size 800x600 with 1 Axes>"
      ]
     },
     "metadata": {},
     "output_type": "display_data"
    }
   ],
   "source": [
    "# Confusion matrix for Decision Tree\n",
    "dt_conf_matrix = confusion_matrix(y_test, dt_predictions)\n",
    "plt.figure(figsize=(8, 6))\n",
    "sns.heatmap(dt_conf_matrix, annot=True, fmt='d', cmap='Blues', cbar=False)\n",
    "plt.xlabel('Predicted labels')\n",
    "plt.ylabel('True labels')\n",
    "plt.title('Confusion Matrix - Decision Tree Classifier')\n",
    "plt.show()"
   ]
  },
  {
   "cell_type": "code",
   "id": "a9637cda-6662-4b1b-aceb-003dc612ef22",
   "metadata": {},
   "outputs": [
    {
     "data": {
      "text/plain": [
       "<Figure size 800x600 with 1 Axes>"
      ]
     },
     "metadata": {},
     "output_type": "display_data"
    }
   ],
   "source": [
    "# Confusion matrix for Random Forest\n",
    "rf_conf_matrix = confusion_matrix(y_test, rf_predictions)\n",
    "plt.figure(figsize=(8, 6))\n",
    "sns.heatmap(rf_conf_matrix, annot=True, fmt='d', cmap='Blues', cbar=False)\n",
    "plt.xlabel('Predicted labels')\n",
    "plt.ylabel('True labels')\n",
    "plt.title('Confusion Matrix - Random Forest Classifier')\n",
    "plt.show()"
   ]
  },
  {
   "cell_type": "code",
   "execution_count": null,
   "id": "9a08f24b",
   "metadata": {},
   "outputs": [],
   "source": []
  }
 ],
 "metadata": {
  "kernelspec": {
   "display_name": "Python 3 (ipykernel)",
   "language": "python",
   "name": "python3"
  },
  "language_info": {
   "codemirror_mode": {
    "name": "ipython",
    "version": 3
   },
   "file_extension": ".py",
   "mimetype": "text/x-python",
   "name": "python",
   "nbconvert_exporter": "python",
   "pygments_lexer": "ipython3",
   "version": "3.11.5"
  }
 },
 "nbformat": 4,
 "nbformat_minor": 5
}
