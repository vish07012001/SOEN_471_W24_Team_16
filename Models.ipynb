{
 "cells": [
  {
   "cell_type": "code",
   "execution_count": 26,
   "id": "b3333126-05f1-4931-b3aa-69ae18af5577",
   "metadata": {},
   "outputs": [],
   "source": [
    "import pandas as pd\n",
    "from sklearn.model_selection import train_test_split\n",
    "from sklearn.tree import DecisionTreeClassifier\n",
    "from sklearn.ensemble import RandomForestClassifier\n",
    "from sklearn.impute import SimpleImputer\n",
    "from sklearn.metrics import classification_report, confusion_matrix\n",
    "import matplotlib.pyplot as plt\n",
    "import seaborn as sns\n",
    "from sklearn.model_selection import GridSearchCV\n",
    "from scipy.stats import randint\n",
    "from sklearn.model_selection import RandomizedSearchCV\n",
    "from sklearn.metrics import accuracy_score"
   ]
  },
  {
   "cell_type": "code",
   "execution_count": 11,
   "id": "a54dd4be-4d3d-4e8e-8a9f-488c9217599e",
   "metadata": {},
   "outputs": [],
   "source": [
    "# Load the data from CSV files\n",
    "atom_df = pd.read_csv('data/atom.csv')\n",
    "whatsapp_df = pd.read_csv('data/whatsapp.csv')\n",
    "codedx_df = pd.read_csv('data/codedx.csv')"
   ]
  },
  {
   "cell_type": "code",
   "execution_count": 12,
   "id": "0ac43ba4-b1e9-4e49-b595-ae80c9723b86",
   "metadata": {},
   "outputs": [],
   "source": [
    "# Concatenate the dataframes\n",
    "df = pd.concat([atom_df, whatsapp_df, codedx_df], ignore_index=True)\n",
    "\n",
    "# Drop 'Unnamed column'\n",
    "df = df.loc[:, ~df.columns.str.contains('^Unnamed')]\n",
    "\n",
    "# Drop the 'Description' column\n",
    "df.drop(columns=['Description'], inplace=True)\n",
    "\n",
    "# Handle missing values for categorical features with a new category 'missing'\n",
    "categorical_features = ['Severity', 'Tool Category', 'Tool Name', 'Rule Name']\n",
    "categorical_imputer = SimpleImputer(strategy='constant', fill_value='missing')\n",
    "df[categorical_features] = categorical_imputer.fit_transform(df[categorical_features])\n",
    "\n",
    "# Handle missing values for numerical feature (CWE) with median\n",
    "numerical_imputer = SimpleImputer(strategy='median')\n",
    "df['CWE'] = numerical_imputer.fit_transform(df[['CWE']])"
   ]
  },
  {
   "cell_type": "code",
   "execution_count": 13,
   "id": "2b1acd1e-91fd-4df6-a360-fc26a68501dc",
   "metadata": {},
   "outputs": [],
   "source": [
    "# One-hot encode categorical features\n",
    "df = pd.get_dummies(df, columns= df.select_dtypes(include=['object']).columns.difference(['Description','Status']))"
   ]
  },
  {
   "cell_type": "code",
   "execution_count": 14,
   "id": "65b14fd0-745c-45ca-a03f-42ca5cb6b963",
   "metadata": {},
   "outputs": [],
   "source": [
    "X = df.drop(columns=['Status'])\n",
    "y = df['Status']\n",
    "\n",
    "# Splitting the dataset into training and testing sets\n",
    "X_train, X_test, y_train, y_test = train_test_split(X, y, test_size=0.5, random_state=42)\n",
    "X_train.columns = X_train.columns.astype(str)\n",
    "X_test.columns = X_test.columns.astype(str)"
   ]
  },
  {
   "cell_type": "code",
   "execution_count": 32,
   "id": "b6055dc7",
   "metadata": {},
   "outputs": [
    {
     "name": "stdout",
     "output_type": "stream",
     "text": [
      "Fitting 5 folds for each of 108 candidates, totalling 540 fits\n"
     ]
    },
    {
     "name": "stdout",
     "output_type": "stream",
     "text": [
      "Best parameters: {'criterion': 'gini', 'max_depth': None, 'min_samples_leaf': 1, 'min_samples_split': 2}\n",
      "Best score: 0.9399546722454672\n",
      "Test Accuracy: 0.9408333333333333\n"
     ]
    }
   ],
   "source": [
    "# Hyperparameter tuning for Decision Tree: using Grid search\n",
    "\n",
    "# Define the model - randomness being set to 42\n",
    "dt_classifier = DecisionTreeClassifier(random_state=42)\n",
    "\n",
    "# Define the parameter grid\n",
    "param_grid = {\n",
    "    'max_depth': [None, 10, 20, 30, 40, 50],\n",
    "    'min_samples_split': [2, 5, 10],\n",
    "    'min_samples_leaf': [1, 2, 4],\n",
    "    'criterion': ['gini', 'entropy']\n",
    "}\n",
    "\n",
    "# Setup GridSearchCV\n",
    "grid_search = GridSearchCV(estimator=dt_classifier, param_grid=param_grid, cv=5, n_jobs=-1, verbose=1, scoring='accuracy')\n",
    "\n",
    "# Fit the model\n",
    "grid_search.fit(X_train, y_train)\n",
    "\n",
    "# Print the best parameters and the best score\n",
    "print(f\"Best parameters: {grid_search.best_params_}\")\n",
    "print(f\"Best score: {grid_search.best_score_}\")\n",
    "\n",
    "# Use the best estimator to make predictions\n",
    "best_estimator = grid_search.best_estimator_\n",
    "y_pred = best_estimator.predict(X_test)\n",
    "\n",
    "# Evaluate the model\n",
    "print(f\"Test Accuracy: {accuracy_score(y_test, y_pred)}\")\n"
   ]
  },
  {
   "cell_type": "code",
   "execution_count": 33,
   "id": "b9965899",
   "metadata": {},
   "outputs": [
    {
     "name": "stdout",
     "output_type": "stream",
     "text": [
      "Fitting 5 folds for each of 100 candidates, totalling 500 fits\n",
      "Best parameters: {'criterion': 'entropy', 'max_depth': 11, 'min_samples_leaf': 2, 'min_samples_split': 2}\n",
      "Best score: 0.9399546722454672\n",
      "Test Accuracy: 0.9408333333333333\n"
     ]
    }
   ],
   "source": [
    "# Hyperparameter tuning for Decision Tree: using Random search\n",
    "\n",
    "# Define the model - randomness being set to 42\n",
    "dt_classifier = DecisionTreeClassifier(random_state=42)\n",
    "\n",
    "# Define the parameter distribution\n",
    "param_dist = {\n",
    "    'max_depth': [None] + list(range(1, 21)),\n",
    "    'min_samples_split': randint(2, 20),\n",
    "    'min_samples_leaf': randint(1, 20),\n",
    "    'criterion': ['gini', 'entropy']\n",
    "}\n",
    "\n",
    "# Setup RandomizedSearchCV\n",
    "random_search = RandomizedSearchCV(dt_classifier, param_distributions=param_dist, n_iter=100, cv=5, n_jobs=-1, verbose=1, random_state=42)\n",
    "\n",
    "# Fit the model\n",
    "random_search.fit(X_train, y_train)\n",
    "\n",
    "# Print the best parameters and the best score\n",
    "print(f\"Best parameters: {random_search.best_params_}\")\n",
    "print(f\"Best score: {random_search.best_score_}\")\n",
    "\n",
    "# Use the best estimator to make predictions\n",
    "best_estimator = random_search.best_estimator_\n",
    "y_pred = best_estimator.predict(X_test)\n",
    "\n",
    "# Evaluate the model\n",
    "print(f\"Test Accuracy: {accuracy_score(y_test, y_pred)}\")"
   ]
  },
  {
   "cell_type": "code",
   "execution_count": 34,
   "id": "f7d5e739",
   "metadata": {},
   "outputs": [
    {
     "name": "stdout",
     "output_type": "stream",
     "text": [
      "Fitting 5 folds for each of 216 candidates, totalling 1080 fits\n",
      "Best parameters: {'bootstrap': True, 'max_depth': None, 'min_samples_leaf': 1, 'min_samples_split': 2, 'n_estimators': 100}\n",
      "Best score: 0.9416213389121338\n",
      "Test Accuracy: 0.9408333333333333\n"
     ]
    }
   ],
   "source": [
    "\n",
    "# Hyperparameter tuning for Random Forest: using Grid search\n",
    "\n",
    "# Define the model - randomness being set to 42\n",
    "rf_classifier = RandomForestClassifier(random_state=42)\n",
    "\n",
    "# Define the parameter grid\n",
    "param_grid = {\n",
    "    'n_estimators': [100, 200, 500],  # Number of trees in the forest\n",
    "    'max_depth': [None, 10, 20, 30],  # Maximum depth of the tree\n",
    "    'min_samples_split': [2, 5, 10],  # Minimum number of samples required to split an internal node\n",
    "    'min_samples_leaf': [1, 2, 4],  # Minimum number of samples required to be at a leaf node\n",
    "    'bootstrap': [True, False]  # Method for sampling data points (with or without replacement)\n",
    "}\n",
    "\n",
    "# Setup GridSearchCV\n",
    "grid_search = GridSearchCV(estimator=rf_classifier, param_grid=param_grid, cv=5, n_jobs=-1, verbose=1, scoring='accuracy')\n",
    "\n",
    "# Fit the model\n",
    "grid_search.fit(X_train, y_train)\n",
    "\n",
    "# Print the best parameters and the best score\n",
    "print(f\"Best parameters: {grid_search.best_params_}\")\n",
    "print(f\"Best score: {grid_search.best_score_}\")\n",
    "\n",
    "# Use the best estimator to make predictions\n",
    "best_estimator = grid_search.best_estimator_\n",
    "y_pred = best_estimator.predict(X_test)\n",
    "\n",
    "# Evaluate the model\n",
    "print(f\"Test Accuracy: {accuracy_score(y_test, y_pred)}\")"
   ]
  },
  {
   "cell_type": "code",
   "execution_count": 35,
   "id": "acaef80f",
   "metadata": {},
   "outputs": [
    {
     "name": "stdout",
     "output_type": "stream",
     "text": [
      "Fitting 5 folds for each of 100 candidates, totalling 500 fits\n",
      "Best parameters: {'bootstrap': True, 'max_depth': 30, 'min_samples_leaf': 1, 'min_samples_split': 9, 'n_estimators': 288}\n",
      "Best score: 0.9416213389121338\n",
      "Test Accuracy: 0.9408333333333333\n"
     ]
    }
   ],
   "source": [
    "# Hyperparameter tuning for Random Forest: using Random search\n",
    "\n",
    "# Define the model - randomness being set to 42\n",
    "rf_classifier = RandomForestClassifier(random_state=42)\n",
    "\n",
    "# Define the parameter distribution\n",
    "param_dist = {\n",
    "    'n_estimators': randint(100, 500),  # Uniformly sampled from this range\n",
    "    'max_depth': [None] + list(range(10, 31, 10)),\n",
    "    'min_samples_split': randint(2, 11),\n",
    "    'min_samples_leaf': randint(1, 5),\n",
    "    'bootstrap': [True, False]\n",
    "}\n",
    "\n",
    "# Setup RandomizedSearchCV\n",
    "random_search = RandomizedSearchCV(estimator=rf_classifier, param_distributions=param_dist, n_iter=100, cv=5, n_jobs=-1, verbose=1, random_state=42)\n",
    "\n",
    "# Fit the model\n",
    "random_search.fit(X_train, y_train)\n",
    "\n",
    "# Print the best parameters and the best score\n",
    "print(f\"Best parameters: {random_search.best_params_}\")\n",
    "print(f\"Best score: {random_search.best_score_}\")\n",
    "\n",
    "# Use the best estimator to make predictions\n",
    "best_estimator = random_search.best_estimator_\n",
    "y_pred = best_estimator.predict(X_test)\n",
    "\n",
    "# Evaluate the model\n",
    "print(f\"Test Accuracy: {accuracy_score(y_test, y_pred)}\")\n"
   ]
  },
  {
   "cell_type": "code",
   "execution_count": 36,
   "id": "8ae3e914-0077-4856-97cd-8dae40f35c1c",
   "metadata": {},
   "outputs": [
    {
     "name": "stdout",
     "output_type": "stream",
     "text": [
      "Decision Tree Classifier Results:\n",
      "                precision    recall  f1-score   support\n",
      "\n",
      "     escalated       0.96      0.95      0.96       801\n",
      "false-positive       0.90      0.92      0.91       399\n",
      "\n",
      "      accuracy                           0.94      1200\n",
      "     macro avg       0.93      0.94      0.93      1200\n",
      "  weighted avg       0.94      0.94      0.94      1200\n",
      "\n",
      "Random Forest Classifier Results:\n",
      "                precision    recall  f1-score   support\n",
      "\n",
      "     escalated       0.96      0.95      0.96       801\n",
      "false-positive       0.90      0.92      0.91       399\n",
      "\n",
      "      accuracy                           0.94      1200\n",
      "     macro avg       0.93      0.94      0.93      1200\n",
      "  weighted avg       0.94      0.94      0.94      1200\n",
      "\n"
     ]
    }
   ],
   "source": [
    "# Model training and evaluation\n",
    "\n",
    "# Decision Tree\n",
    "dt_classifier = DecisionTreeClassifier(criterion = 'gini', max_depth = None, min_samples_leaf = 1, min_samples_split = 2)\n",
    "dt_classifier.fit(X_train, y_train)\n",
    "dt_predictions = dt_classifier.predict(X_test)\n",
    "print(\"Decision Tree Classifier Results:\")\n",
    "print(classification_report(y_test, dt_predictions))\n",
    "\n",
    "# Random Forest\n",
    "rf_classifier = RandomForestClassifier(bootstrap = True, max_depth = 30, min_samples_leaf = 1, min_samples_split = 9, n_estimators = 288)\n",
    "rf_classifier.fit(X_train, y_train)\n",
    "rf_predictions = rf_classifier.predict(X_test)\n",
    "print(\"Random Forest Classifier Results:\")\n",
    "print(classification_report(y_test, rf_predictions))"
   ]
  },
  {
   "cell_type": "code",
   "execution_count": 37,
   "id": "a5fc6954-747a-452e-9da4-b7d96f711e15",
   "metadata": {},
   "outputs": [
    {
     "data": {
      "image/png": "[encoded data removed]",
      "text/plain": [
       "<Figure size 800x600 with 1 Axes>"
      ]
     },
     "metadata": {},
     "output_type": "display_data"
    }
   ],
   "source": [
    "# Confusion matrix for Decision Tree\n",
    "dt_conf_matrix = confusion_matrix(y_test, dt_predictions)\n",
    "plt.figure(figsize=(8, 6))\n",
    "sns.heatmap(dt_conf_matrix, annot=True, fmt='d', cmap='Blues', cbar=False)\n",
    "plt.xlabel('Predicted labels')\n",
    "plt.ylabel('True labels')\n",
    "plt.title('Confusion Matrix - Decision Tree Classifier')\n",
    "plt.show()"
   ]
  },
  {
   "cell_type": "code",
   "execution_count": 38,
   "id": "a9637cda-6662-4b1b-aceb-003dc612ef22",
   "metadata": {},
   "outputs": [
    {
     "data": {
      "image/png": "[encoded data removed]",
      "text/plain": [
       "<Figure size 800x600 with 1 Axes>"
      ]
     },
     "metadata": {},
     "output_type": "display_data"
    }
   ],
   "source": [
    "# Confusion matrix for Random Forest\n",
    "rf_conf_matrix = confusion_matrix(y_test, rf_predictions)\n",
    "plt.figure(figsize=(8, 6))\n",
    "sns.heatmap(rf_conf_matrix, annot=True, fmt='d', cmap='Blues', cbar=False)\n",
    "plt.xlabel('Predicted labels')\n",
    "plt.ylabel('True labels')\n",
    "plt.title('Confusion Matrix - Random Forest Classifier')\n",
    "plt.show()"
   ]
  }
 ],
 "metadata": {
  "kernelspec": {
   "display_name": "Python 3 (ipykernel)",
   "language": "python",
   "name": "python3"
  },
  "language_info": {
   "codemirror_mode": {
    "name": "ipython",
    "version": 3
   },
   "file_extension": ".py",
   "mimetype": "text/x-python",
   "name": "python",
   "nbconvert_exporter": "python",
   "pygments_lexer": "ipython3",
   "version": "3.12.0"
  }
 },
 "nbformat": 4,
 "nbformat_minor": 5
}
