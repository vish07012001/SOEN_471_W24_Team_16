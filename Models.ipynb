{
 "cells": [
  {
   "cell_type": "code",
   "execution_count": 44,
   "id": "b3333126-05f1-4931-b3aa-69ae18af5577",
   "metadata": {},
   "outputs": [],
   "source": [
    "import pandas as pd\n",
    "from sklearn.model_selection import train_test_split\n",
    "from sklearn.tree import DecisionTreeClassifier\n",
    "from sklearn.ensemble import RandomForestClassifier\n",
    "from sklearn.impute import SimpleImputer\n",
    "from sklearn.metrics import accuracy_score, classification_report, confusion_matrix, ConfusionMatrixDisplay\n",
    "import numpy as np\n",
    "import matplotlib.pyplot as plt\n",
    "from sklearn.model_selection import GridSearchCV\n",
    "from scipy.stats import randint\n",
    "from sklearn.model_selection import RandomizedSearchCV"
   ]
  },
  {
   "cell_type": "code",
   "execution_count": 7,
   "id": "a54dd4be-4d3d-4e8e-8a9f-488c9217599e",
   "metadata": {},
   "outputs": [],
   "source": [
    "# Load the data from CSV files\n",
    "atom_df = pd.read_csv('data/atom.csv')\n",
    "whatsapp_df = pd.read_csv('data/whatsapp.csv')\n",
    "codedx_df = pd.read_csv('data/codedx.csv')"
   ]
  },
  {
   "cell_type": "code",
   "execution_count": 12,
   "id": "0ac43ba4-b1e9-4e49-b595-ae80c9723b86",
   "metadata": {},
   "outputs": [],
   "source": [
    "# Concatenate the dataframes\n",
    "df = pd.concat([atom_df, whatsapp_df, codedx_df], ignore_index=True)\n",
    "\n",
    "# Drop 'Unnamed column'\n",
    "df = df.loc[:, ~df.columns.str.contains('^Unnamed')]\n",
    "\n",
    "# Handle missing values for categorical features with a new category 'missing'\n",
    "categorical_features = ['Severity', 'Description', 'Tool Category', 'Tool Name', 'Rule Name']\n",
    "categorical_imputer = SimpleImputer(strategy='constant', fill_value='missing')\n",
    "df[categorical_features] = categorical_imputer.fit_transform(df[categorical_features])\n",
    "\n",
    "# Handle missing values for numerical feature (CWE) with median\n",
    "numerical_imputer = SimpleImputer(strategy='constant', fill_value=0)\n",
    "df['CWE'] = numerical_imputer.fit_transform(df[['CWE']])"
   ]
  },
  {
   "cell_type": "code",
   "execution_count": 13,
   "id": "2b1acd1e-91fd-4df6-a360-fc26a68501dc",
   "metadata": {},
   "outputs": [],
   "source": [
    "# One-hot encode categorical features\n",
    "df = pd.get_dummies(df, columns= df.select_dtypes(include=['object']).columns.difference(['Status']))"
   ]
  },
  {
   "cell_type": "code",
   "execution_count": 14,
   "id": "65b14fd0-745c-45ca-a03f-42ca5cb6b963",
   "metadata": {},
   "outputs": [],
   "source": [
    "# Separate target feature\n",
    "X = df.drop(columns=['Status'])\n",
    "y = df['Status']\n",
    "X.columns = X.columns.astype(str)"
   ]
  },
  {
   "cell_type": "code",
   "execution_count": 18,
   "id": "b6055dc7",
   "metadata": {},
   "outputs": [
    {
     "name": "stdout",
     "output_type": "stream",
     "text": [
      "Fitting 5 folds for each of 108 candidates, totalling 540 fits\n",
      "Best parameters: {'criterion': 'entropy', 'max_depth': None, 'min_samples_leaf': 1, 'min_samples_split': 2}\n",
      "Best score: 0.9587343423799582\n"
     ]
    }
   ],
   "source": [
    "# Hyperparameter tuning for Decision Tree: using Grid search\n",
    "\n",
    "# Define the model - randomness being set to 42\n",
    "dt_classifier = DecisionTreeClassifier(random_state=42)\n",
    "\n",
    "# Define the parameter grid\n",
    "param_grid = {\n",
    "    'max_depth': [None, 10, 20, 30, 40, 50],\n",
    "    'min_samples_split': [2, 5, 10],\n",
    "    'min_samples_leaf': [1, 2, 4],\n",
    "    'criterion': ['gini', 'entropy']\n",
    "}\n",
    "\n",
    "# Setup GridSearchCV\n",
    "grid_search = GridSearchCV(estimator=dt_classifier, param_grid=param_grid, cv=5, n_jobs=-1, verbose=1, scoring='accuracy')\n",
    "\n",
    "# Fit the model\n",
    "grid_search.fit(X, y)\n",
    "\n",
    "# Print the best parameters and the best score\n",
    "print(f\"Best parameters: {grid_search.best_params_}\")\n",
    "print(f\"Best score: {grid_search.best_score_}\")\n",
    "best_estimator = grid_search.best_estimator_"
   ]
  },
  {
   "cell_type": "code",
   "execution_count": 19,
   "id": "b9965899",
   "metadata": {},
   "outputs": [
    {
     "name": "stdout",
     "output_type": "stream",
     "text": [
      "Fitting 5 folds for each of 100 candidates, totalling 500 fits\n",
      "Best parameters: {'criterion': 'entropy', 'max_depth': None, 'min_samples_leaf': 1, 'min_samples_split': 4}\n",
      "Best score: 0.9587343423799582\n"
     ]
    }
   ],
   "source": [
    "# Hyperparameter tuning for Decision Tree: using Random search\n",
    "\n",
    "# Define the model - randomness being set to 42\n",
    "dt_classifier = DecisionTreeClassifier(random_state=42)\n",
    "\n",
    "# Define the parameter distribution\n",
    "param_dist = {\n",
    "    'max_depth': [None] + list(range(1, 21)),\n",
    "    'min_samples_split': randint(2, 20),\n",
    "    'min_samples_leaf': randint(1, 20),\n",
    "    'criterion': ['gini', 'entropy']\n",
    "}\n",
    "\n",
    "# Setup RandomizedSearchCV\n",
    "random_search = RandomizedSearchCV(dt_classifier, param_distributions=param_dist, n_iter=100, cv=5, n_jobs=-1, verbose=1, random_state=42)\n",
    "\n",
    "# Fit the model\n",
    "random_search.fit(X, y)\n",
    "\n",
    "# Print the best parameters and the best score\n",
    "print(f\"Best parameters: {random_search.best_params_}\")\n",
    "print(f\"Best score: {random_search.best_score_}\")\n",
    "best_estimator = random_search.best_estimator_"
   ]
  },
  {
   "cell_type": "code",
   "execution_count": 20,
   "id": "f7d5e739",
   "metadata": {},
   "outputs": [
    {
     "name": "stdout",
     "output_type": "stream",
     "text": [
      "Fitting 5 folds for each of 216 candidates, totalling 1080 fits\n",
      "Best parameters: {'bootstrap': False, 'max_depth': 20, 'min_samples_leaf': 1, 'min_samples_split': 10, 'n_estimators': 100}\n",
      "Best score: 0.9620694154488518\n"
     ]
    }
   ],
   "source": [
    "# Hyperparameter tuning for Random Forest: using Grid search\n",
    "\n",
    "# Define the model - randomness being set to 42\n",
    "rf_classifier = RandomForestClassifier(random_state=42)\n",
    "\n",
    "# Define the parameter grid\n",
    "param_grid = {\n",
    "    'n_estimators': [100, 200, 500],  \n",
    "    'max_depth': [None, 10, 20, 30],  \n",
    "    'min_samples_split': [2, 5, 10],  \n",
    "    'min_samples_leaf': [1, 2, 4],  \n",
    "    'bootstrap': [True, False]  \n",
    "}\n",
    "\n",
    "# Setup GridSearchCV\n",
    "grid_search = GridSearchCV(estimator=rf_classifier, param_grid=param_grid, cv=5, n_jobs=-1, verbose=1, scoring='accuracy')\n",
    "\n",
    "# Fit the model\n",
    "grid_search.fit(X, y)\n",
    "\n",
    "# Print the best parameters and the best score\n",
    "print(f\"Best parameters: {grid_search.best_params_}\")\n",
    "print(f\"Best score: {grid_search.best_score_}\")\n",
    "best_estimator = grid_search.best_estimator_"
   ]
  },
  {
   "cell_type": "code",
   "execution_count": 21,
   "id": "acaef80f",
   "metadata": {},
   "outputs": [
    {
     "name": "stdout",
     "output_type": "stream",
     "text": [
      "Fitting 5 folds for each of 100 candidates, totalling 500 fits\n",
      "Best parameters: {'bootstrap': False, 'max_depth': 20, 'min_samples_leaf': 1, 'min_samples_split': 5, 'n_estimators': 195}\n",
      "Best score: 0.9616527487821852\n"
     ]
    }
   ],
   "source": [
    "# Hyperparameter tuning for Random Forest: using Random search\n",
    "\n",
    "# Define the model - randomness being set to 42\n",
    "rf_classifier = RandomForestClassifier(random_state=42)\n",
    "\n",
    "# Define the parameter distribution\n",
    "param_dist = {\n",
    "    'n_estimators': randint(100, 500),  \n",
    "    'max_depth': [None] + list(range(10, 31, 10)),\n",
    "    'min_samples_split': randint(2, 11),\n",
    "    'min_samples_leaf': randint(1, 5),\n",
    "    'bootstrap': [True, False]\n",
    "}\n",
    "\n",
    "# Setup RandomizedSearchCV\n",
    "random_search = RandomizedSearchCV(estimator=rf_classifier, param_distributions=param_dist, n_iter=100, cv=5, n_jobs=-1, verbose=1, random_state=42)\n",
    "\n",
    "# Fit the model\n",
    "random_search.fit(X, y)\n",
    "\n",
    "# Print the best parameters and the best score\n",
    "print(f\"Best parameters: {random_search.best_params_}\")\n",
    "print(f\"Best score: {random_search.best_score_}\")\n",
    "best_estimator = random_search.best_estimator_"
   ]
  },
  {
   "cell_type": "code",
   "execution_count": 22,
   "id": "8ae3e914-0077-4856-97cd-8dae40f35c1c",
   "metadata": {},
   "outputs": [
    {
     "name": "stdout",
     "output_type": "stream",
     "text": [
      "Decision Tree Classifier Results:\n",
      "                precision    recall  f1-score   support\n",
      "\n",
      "     escalated       0.95      0.98      0.97       801\n",
      "false-positive       0.97      0.90      0.93       399\n",
      "\n",
      "      accuracy                           0.96      1200\n",
      "     macro avg       0.96      0.94      0.95      1200\n",
      "  weighted avg       0.96      0.96      0.96      1200\n",
      "\n",
      "Random Forest Classifier Results:\n",
      "                precision    recall  f1-score   support\n",
      "\n",
      "     escalated       0.95      0.98      0.97       801\n",
      "false-positive       0.97      0.90      0.93       399\n",
      "\n",
      "      accuracy                           0.96      1200\n",
      "     macro avg       0.96      0.94      0.95      1200\n",
      "  weighted avg       0.96      0.96      0.96      1200\n",
      "\n"
     ]
    }
   ],
   "source": [
    "# Model training and evaluation\n",
    "\n",
    "# Splitting the dataset into training and test sets\n",
    "X_train, X_test, y_train, y_test = train_test_split(X, y, test_size=0.5, random_state=42)\n",
    "X_train.columns = X_train.columns.astype(str)\n",
    "X_test.columns = X_test.columns.astype(str)\n",
    "\n",
    "# Decision Tree\n",
    "dt_classifier = DecisionTreeClassifier(criterion = 'entropy', max_depth = None, min_samples_leaf = 1, min_samples_split = 2)\n",
    "dt_classifier.fit(X_train, y_train)\n",
    "dt_predictions = dt_classifier.predict(X_test)\n",
    "print(\"Decision Tree Classifier Results:\")\n",
    "print(classification_report(y_test, dt_predictions))\n",
    "\n",
    "# Random Forest\n",
    "rf_classifier = RandomForestClassifier(bootstrap = False, max_depth = 20, min_samples_leaf = 1, min_samples_split = 10, n_estimators = 100)\n",
    "rf_classifier.fit(X_train, y_train)\n",
    "rf_predictions = rf_classifier.predict(X_test)\n",
    "print(\"Random Forest Classifier Results:\")\n",
    "print(classification_report(y_test, rf_predictions))"
   ]
  },
  {
   "cell_type": "code",
   "execution_count": 37,
   "id": "a5fc6954-747a-452e-9da4-b7d96f711e15",
   "metadata": {},
   "outputs": [
    {
     "data": {
      "image/png": "[encoded data removed]",
      "text/plain": [
       "<Figure size 640x480 with 2 Axes>"
      ]
     },
     "metadata": {},
     "output_type": "display_data"
    }
   ],
   "source": [
    "# Get unique class names from your target variable\n",
    "target_names = np.unique(df['Status'])\n",
    "\n",
    "# Confusion matrix for Decision Tree\n",
    "dt_cm = confusion_matrix(y_test, dt_predictions)\n",
    "ConfusionMatrixDisplay(dt_cm, display_labels=target_names).plot()\n",
    "plt.show()"
   ]
  },
  {
   "cell_type": "code",
   "execution_count": 39,
   "id": "a9637cda-6662-4b1b-aceb-003dc612ef22",
   "metadata": {},
   "outputs": [
    {
     "data": {
      "image/png": "[encoded data removed]",
      "text/plain": [
       "<Figure size 640x480 with 2 Axes>"
      ]
     },
     "metadata": {},
     "output_type": "display_data"
    }
   ],
   "source": [
    "# Confusion matrix for Random Forest\n",
    "rf_cm = confusion_matrix(y_test, rf_predictions)\n",
    "ConfusionMatrixDisplay(rf_cm, display_labels=target_names).plot()\n",
    "plt.show()"
   ]
  },
  {
   "cell_type": "code",
   "execution_count": 42,
   "id": "d689f609-170a-4a17-8be7-2eceb80e352f",
   "metadata": {},
   "outputs": [
    {
     "name": "stdout",
     "output_type": "stream",
     "text": [
      "                                               Feature  Importance\n",
      "253                           Rule Name_Initialization    0.494729\n",
      "271  Rule Name_Undeclared variables are global by d...    0.095261\n",
      "299                                   Tool Name_Pylint    0.092810\n",
      "251                 Rule Name_Function already defined    0.065891\n",
      "47                  Description_'sjcl' is not defined.    0.063917\n",
      "..                                                 ...         ...\n",
      "108  Description_Import \"import uuid\" should be pla...    0.000000\n",
      "107  Description_Import \"import traceback\" should b...    0.000000\n",
      "106  Description_Import \"import time\" should be pla...    0.000000\n",
      "105  Description_Import \"import os\" should be place...    0.000000\n",
      "150  Description_This disposable local is not guara...    0.000000\n",
      "\n",
      "[301 rows x 2 columns]\n"
     ]
    }
   ],
   "source": [
    "feature_importances = dt_classifier.feature_importances_\n",
    "feature_importance_df = pd.DataFrame({'Feature': X_train.columns, 'Importance': feature_importances})\n",
    "feature_importance_df = feature_importance_df.sort_values(by='Importance', ascending=False)\n",
    "print(feature_importance_df)"
   ]
  },
  {
   "cell_type": "code",
   "execution_count": 43,
   "id": "5ae44adc-829a-4140-807a-4992e7e55679",
   "metadata": {},
   "outputs": [
    {
     "name": "stdout",
     "output_type": "stream",
     "text": [
      "                                               Feature  Importance\n",
      "253                           Rule Name_Initialization    0.134742\n",
      "0                                                  CWE    0.107602\n",
      "45               Description_'require' is not defined.    0.101151\n",
      "42               Description_'process' is not defined.    0.050078\n",
      "47                  Description_'sjcl' is not defined.    0.038788\n",
      "..                                                 ...         ...\n",
      "144  Description_The use of the event does not seem...    0.000000\n",
      "145  Description_There are potentially dangerous ca...    0.000000\n",
      "15   Description_'_0' is assigned a value but never...    0.000000\n",
      "146  Description_This disposable local is not guara...    0.000000\n",
      "160  Description_This disposable local is not guara...    0.000000\n",
      "\n",
      "[301 rows x 2 columns]\n"
     ]
    }
   ],
   "source": [
    "feature_importances = rf_classifier.feature_importances_\n",
    "feature_importance_df = pd.DataFrame({'Feature': X_train.columns, 'Importance': feature_importances})\n",
    "feature_importance_df = feature_importance_df.sort_values(by='Importance', ascending=False)\n",
    "print(feature_importance_df)"
   ]
  }
 ],
 "metadata": {
  "kernelspec": {
   "display_name": "Python 3 (ipykernel)",
   "language": "python",
   "name": "python3"
  },
  "language_info": {
   "codemirror_mode": {
    "name": "ipython",
    "version": 3
   },
   "file_extension": ".py",
   "mimetype": "text/x-python",
   "name": "python",
   "nbconvert_exporter": "python",
   "pygments_lexer": "ipython3",
   "version": "3.10.12"
  }
 },
 "nbformat": 4,
 "nbformat_minor": 5
}
